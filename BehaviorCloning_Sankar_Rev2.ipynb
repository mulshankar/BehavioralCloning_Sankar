{
 "cells": [
  {
   "cell_type": "markdown",
   "metadata": {},
   "source": [
    "# Traffic Sign Classifier\n"
   ]
  },
  {
   "cell_type": "code",
   "execution_count": 1,
   "metadata": {},
   "outputs": [
    {
     "name": "stdout",
     "output_type": "stream",
     "text": [
      "file load successful... first line is  ['center', 'left', 'right', 'steering', 'throttle', 'brake', 'speed']\n"
     ]
    }
   ],
   "source": [
    "### import training log file\n",
    "\n",
    "import csv\n",
    "\n",
    "lines=[]\n",
    "\n",
    "with open('/home/carnd/P3_sankar/myData/data/driving_log.csv')as csvfile:\n",
    "    reader=csv.reader(csvfile)\n",
    "    for line in reader:\n",
    "        lines.append(line)\n",
    "print(\"file load successful... first line is \",lines[0])\n"
   ]
  },
  {
   "cell_type": "code",
   "execution_count": 2,
   "metadata": {},
   "outputs": [
    {
     "name": "stderr",
     "output_type": "stream",
     "text": [
      "/home/carnd/anaconda3/envs/carnd-term1/lib/python3.5/site-packages/ipykernel_launcher.py:20: FutureWarning: comparison to `None` will result in an elementwise object comparison in the future.\n"
     ]
    },
    {
     "name": "stdout",
     "output_type": "stream",
     "text": [
      "base data set measurement size 24108\n",
      "base data set # of images 24108\n",
      "\n",
      "Aug data set measurement size 48216\n",
      "Aug data set # of images 48216\n",
      "\n"
     ]
    }
   ],
   "source": [
    "### Separate training data into images and measurements(steering angle, pedal, brake etc..)\n",
    "### Based on an image obtained via front,left or right camera, then network predicts steer angle\n",
    "### X_train will be images, Y_train is steer angle\n",
    "\n",
    "import cv2\n",
    "import numpy as np\n",
    "\n",
    "images=[]\n",
    "measurements=[]\n",
    "\n",
    "lines.pop(0) ## remove labels\n",
    "\n",
    "for line in lines:\n",
    "    for i in range(3):\n",
    "        source_path=line[i]\n",
    "        filename=source_path.split('/')[-1]\n",
    "        current_path='/home/carnd/P3_sankar/myData/data/IMG/'+ filename\n",
    "        image=cv2.imread(current_path)\n",
    "        image = cv2.cvtColor(image, cv2.COLOR_BGR2RGB)\n",
    "        if image == None:\n",
    "            print(\"Invalid image:\" , current_path)\n",
    "        else:\n",
    "            images.append(image)\n",
    "            measurement = float(line[3])\n",
    "            if i==1:\n",
    "                measurements.append(measurement+0.2) ## for a left image, steer right a bit\n",
    "            elif i==2:\n",
    "                measurements.append(measurement-0.2) ## for a right image, steer left a bit\n",
    "            else:\n",
    "                measurements.append(measurement)   ## for a center image, do nothing             \n",
    "                \n",
    "\n",
    "## Test any specific training point as needed    \n",
    "print(\"base data set measurement size\",len(measurements))\n",
    "print(\"base data set # of images\",len(images))\n",
    "print()\n",
    "\n",
    "## Augmenting images to the data set\n",
    "\n",
    "# Flip images and measurement\n",
    "\n",
    "images_aug=[]\n",
    "measurements_aug=[]\n",
    "\n",
    "for image,measurement in zip(images,measurements):\n",
    "    images_aug.append(image)    \n",
    "    measurements_aug.append(measurement)\n",
    "    images_aug.append(cv2.flip(image,1))\n",
    "    measurements_aug.append(measurement*-1.0)\n",
    "\n",
    "print(\"Aug data set measurement size\",len(measurements_aug))\n",
    "print(\"Aug data set # of images\",len(images_aug))\n",
    "print()\n"
   ]
  },
  {
   "cell_type": "code",
   "execution_count": 3,
   "metadata": {
    "scrolled": true
   },
   "outputs": [
    {
     "name": "stderr",
     "output_type": "stream",
     "text": [
      "Using TensorFlow backend.\n"
     ]
    },
    {
     "name": "stdout",
     "output_type": "stream",
     "text": [
      "Image shape is (160, 320, 3)\n",
      "Train on 38572 samples, validate on 9644 samples\n",
      "Epoch 1/3\n",
      "38572/38572 [==============================] - 92s - loss: 0.0174 - val_loss: 0.0199\n",
      "Epoch 2/3\n",
      "38572/38572 [==============================] - 79s - loss: 0.0149 - val_loss: 0.0206\n",
      "Epoch 3/3\n",
      "38572/38572 [==============================] - 79s - loss: 0.0136 - val_loss: 0.0189\n",
      "model saved\n"
     ]
    }
   ],
   "source": [
    "### Train a simple network based on images and steer angle\n",
    "\n",
    "x_train=np.array(images_aug) ## converting to numpy arrays for tensorflow\n",
    "y_train=np.array(measurements_aug)\n",
    "\n",
    "from keras.models import Sequential\n",
    "from keras.layers import Flatten,Dense\n",
    "from keras.layers import Lambda,Cropping2D,Convolution2D\n",
    "\n",
    "print(\"Image shape is\",x_train[0].shape)\n",
    "\n",
    "model=Sequential()\n",
    "model.add(Lambda(lambda x: (x / 255.0) - 0.5, input_shape=(160,320,3)))\n",
    "model.add(Cropping2D(cropping=((70,25),(0,0))))\n",
    "model.add(Convolution2D(24,5,5,subsample=(2,2),activation=\"relu\"))\n",
    "model.add(Convolution2D(36,5,5,subsample=(2,2),activation=\"relu\"))\n",
    "model.add(Convolution2D(48,5,5,subsample=(2,2),activation=\"relu\"))\n",
    "model.add(Convolution2D(64,3,3,activation=\"relu\"))\n",
    "model.add(Convolution2D(64,3,3,activation=\"relu\"))\n",
    "model.add(Flatten())\n",
    "model.add(Dense(100))\n",
    "model.add(Dense(50))\n",
    "model.add(Dense(10))\n",
    "model.add(Dense(1))\n",
    "\n",
    "model.compile(loss='mse',optimizer='adam')\n",
    "model.fit(x_train,y_train,validation_split=0.2,shuffle=True,nb_epoch=3,verbose=1)\n",
    "\n",
    "model.save('SankarModel.h5')\n",
    "print('model saved')\n",
    "\n",
    "\n",
    "\n"
   ]
  },
  {
   "cell_type": "code",
   "execution_count": null,
   "metadata": {
    "collapsed": true
   },
   "outputs": [],
   "source": []
  },
  {
   "cell_type": "code",
   "execution_count": null,
   "metadata": {
    "collapsed": true
   },
   "outputs": [],
   "source": []
  }
 ],
 "metadata": {
  "anaconda-cloud": {},
  "kernelspec": {
   "display_name": "Python 3",
   "language": "python",
   "name": "python3"
  },
  "language_info": {
   "codemirror_mode": {
    "name": "ipython",
    "version": 3
   },
   "file_extension": ".py",
   "mimetype": "text/x-python",
   "name": "python",
   "nbconvert_exporter": "python",
   "pygments_lexer": "ipython3",
   "version": "3.5.2"
  },
  "widgets": {
   "state": {},
   "version": "1.1.2"
  }
 },
 "nbformat": 4,
 "nbformat_minor": 1
}
